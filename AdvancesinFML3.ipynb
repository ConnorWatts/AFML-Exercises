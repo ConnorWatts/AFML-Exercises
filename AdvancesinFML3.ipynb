{
  "nbformat": 4,
  "nbformat_minor": 0,
  "metadata": {
    "colab": {
      "provenance": [],
      "authorship_tag": "ABX9TyOdv9wZd8Ox0ABrM9SyFaUp",
      "include_colab_link": true
    },
    "kernelspec": {
      "name": "python3",
      "display_name": "Python 3"
    },
    "language_info": {
      "name": "python"
    }
  },
  "cells": [
    {
      "cell_type": "markdown",
      "metadata": {
        "id": "view-in-github",
        "colab_type": "text"
      },
      "source": [
        "<a href=\"https://colab.research.google.com/github/ConnorWatts/AFML-Exercises/blob/main/AdvancesinFML3.ipynb\" target=\"_parent\"><img src=\"https://colab.research.google.com/assets/colab-badge.svg\" alt=\"Open In Colab\"/></a>"
      ]
    },
    {
      "cell_type": "markdown",
      "source": [
        "Answers to Exercises from Advances in Financial Machine Learning Chapter 3"
      ],
      "metadata": {
        "id": "9LcyCLvNfsBg"
      }
    },
    {
      "cell_type": "code",
      "source": [
        "import numpy as np\n",
        "import pandas as pd\n",
        "import matplotlib.pyplot as plt\n",
        "import multiprocessing as mp\n",
        "import time\n",
        "import sys\n",
        "import datetime as dt\n",
        "from datetime import datetime"
      ],
      "metadata": {
        "id": "b9K69UGGgCAW"
      },
      "execution_count": 78,
      "outputs": []
    },
    {
      "cell_type": "markdown",
      "source": [
        "Preliminary functions from the book"
      ],
      "metadata": {
        "id": "VUNuV_GxgC8E"
      }
    },
    {
      "cell_type": "code",
      "source": [
        "# CUSUM FILTER\n",
        "\n",
        "def getTEvents(gRaw,h):\n",
        "  tEvents, sPos, sNeg = [], 0, 0\n",
        "  diff = gRaw.diff()\n",
        "  for i in diff.index[1:]:\n",
        "    sPos, sNeg = max(0,sPos+diff.loc[i]),min(0,sNeg+diff.loc[i])\n",
        "    if sNeg < -h:\n",
        "      sNeg = 0; tEvents.append(i)\n",
        "    elif sPos > h:\n",
        "      sPos = 0; tEvents.append(i)\n",
        "    return pd.DatetimeIndex(tEvents)"
      ],
      "metadata": {
        "id": "Lr3KGYNvgJKU"
      },
      "execution_count": 79,
      "outputs": []
    },
    {
      "cell_type": "code",
      "source": [
        "# DAILY VOLS\n",
        "\n",
        "def getDailyVol(close,span0=100):\n",
        "  df0 = close.index.searchsorted(close.index-pd.Timedelta(days = 1))\n",
        "  df0 = df0[df0>0]\n",
        "  df0 = pd.Series(close.index[df0-1], index = close.index[close.shape[0]-df0.shape[0]:])\n",
        "  df0 = close.loc[df0.index]/close.loc[df0.values].values -1\n",
        "  df0 = df0.ewm(span=span0).std()\n",
        "  return df0"
      ],
      "metadata": {
        "id": "Db_YQHzzZ8ic"
      },
      "execution_count": 80,
      "outputs": []
    },
    {
      "cell_type": "code",
      "source": [
        "# ADDING A VERTICAL BARRIER\n",
        "\n",
        "def addVerticalBarrier(t_events, df, num_days=1):\n",
        "    t1 = df.index.searchsorted(t_events + pd.Timedelta(days=num_days))\n",
        "    t1 = t1[t1 < df.shape[0]]\n",
        "    t1 = pd.Series(df.index[t1], index=t_events[:t1.shape[0]])  # NaNs at end\n",
        "    return t1"
      ],
      "metadata": {
        "id": "bxOv4R9Je9h4"
      },
      "execution_count": 81,
      "outputs": []
    },
    {
      "cell_type": "code",
      "source": [
        "def applyPtSlOnT1(close,events,ptSl,molecule):\n",
        "  # apply stop loss/profit taking, if it takes place before t1 \n",
        "  events_= events.loc[molecule]\n",
        "  out=events_[['t1']].copy(deep=True)\n",
        "  if ptSl[0]>0:pt=ptSl[0]*events_['trgt']\n",
        "  else:pt=pd.Series(index=events.index)\n",
        "  if ptSl[1]>0:sl=-ptSl[1]*events_['trgt']\n",
        "  else:sl=pd.Series(index=events.index)\n",
        "  for loc, t1 in events_['t1'].fillna(close.index[-1]).iteritems():\n",
        "    df0=close[loc:t1]\n",
        "    df0=(df0/close[loc]-1)*events_.at[loc,'side']\n",
        "    out.loc[loc,'sl']=df0[df0<sl[loc]].index.min()\n",
        "    out.loc[loc,'pt']=df0[df0>pt[loc]].index.min()\n",
        "  return out"
      ],
      "metadata": {
        "id": "Z6RcWmQuicDF"
      },
      "execution_count": 82,
      "outputs": []
    },
    {
      "cell_type": "code",
      "source": [
        "def getEvents(close,tEvents,ptSl,trgt,minRet,numThreads,t1=False,side=None):\n",
        "\n",
        "  #1) get target\n",
        "  trgt = trgt.loc[tEvents]\n",
        "  trgt = trgt[trgt>minRet]\n",
        "\n",
        "  #2) get t1 (max holding period)\n",
        "  if t1 is False: t1 = pd.Series(pd.NaT,index=tEvents)\n",
        "\n",
        "  #3) form events object, apply stop loss on t1\n",
        "  if side is None: side_, pt_sl = pd.Series(1., index=trgt.index),[ptSl[0], ptSl[0]]\n",
        "  else: side_,  pt_sl= side.loc[trgt.index],ptSl[:2]\n",
        "  events = pd.concat({'t1':t1,'trgt':trgt,'side':side_}, \\\n",
        "                     axis=1).dropna(subset=['trgt'])\n",
        "  df0 = MultiProcessingFunctions.mp_pandas_obj(func=applyPtSlOnT1,pd_obj = ('molecule',events.index) , \\\n",
        "                    num_threads = numThreads, close = close, events = events, ptSl = ptSl)#[ptSl,ptSl])\n",
        "  events['t1'] = df0.dropna(how='all').min(axis=1) \n",
        "  events = events.drop('side',axis = 1)\n",
        "  return events"
      ],
      "metadata": {
        "id": "iOW4Qizfu4J-"
      },
      "execution_count": 83,
      "outputs": []
    },
    {
      "cell_type": "code",
      "source": [
        "def getBins(events,close):\n",
        "  # 1) align prices with events\n",
        "  events_ = events.dropna(subset=['t1'])\n",
        "  px = events_.index.union(events_['t1'].values).drop_duplicates()\n",
        "  px = close.reindex(px,method='bfill')\n",
        "  # 2) create out object\n",
        "  out= pd.DataFrame(index=events_.index)\n",
        "  out['ret'] = px.loc[events_['t1'].values].values/px.loc[events_.index]-1\n",
        "  if 'side' in events_: out['ret'] *= events_['side'] \n",
        "  out['bin'] = np.sign(out['ret'])\n",
        "  if 'side' in events_: out.loc[out['ret'] <= 0, 'bin'] = 0\n",
        "  return out"
      ],
      "metadata": {
        "id": "gxTRPZ5rwdyb"
      },
      "execution_count": 84,
      "outputs": []
    },
    {
      "cell_type": "code",
      "source": [
        "def dropLabels(events,minPtc=0.05):\n",
        "  # apply weights, drop labels with insufficient examples\n",
        "  while True:\n",
        "    df0 = events['bin'].value_counts(normalize=True)\n",
        "    if df0.min() > minPtc or df0.shape[0]<3:break\n",
        "    print (\"dropped labels, %s, %s\" % (df0.argmin(),df0.min()) )\n",
        "    events=events[events['bin']!=df0.argmin()]\n",
        "  return events"
      ],
      "metadata": {
        "id": "VyEBP5FEafER"
      },
      "execution_count": 85,
      "outputs": []
    },
    {
      "cell_type": "code",
      "source": [
        "class MultiProcessingFunctions:\n",
        "\t\"\"\" This static functions in this class enable multi-processing\"\"\"\n",
        "  # from https://colab.research.google.com/drive/1FmnCJ1CI98khBu88kezLXKqvS7U8Nw_h?usp=sharing#scrollTo=k6s5ZC0eGEbW\n",
        "\tdef __init__(self):\n",
        "\t\tpass\n",
        "\n",
        "\t@staticmethod\n",
        "\tdef lin_parts(num_atoms, num_threads):\n",
        "\t\t\"\"\" This function partitions a list of atoms in subsets (molecules) of equal size.\n",
        "\t\tAn atom is a set of indivisible set of tasks.\n",
        "\t\t\"\"\"\n",
        "\n",
        "\t\t# partition of atoms with a single loop\n",
        "\t\tparts = np.linspace(0, num_atoms, min(num_threads, num_atoms) + 1)\n",
        "\t\tparts = np.ceil(parts).astype(int)\n",
        "\t\treturn parts\n",
        "\n",
        "\t@staticmethod\n",
        "\tdef nested_parts(num_atoms, num_threads, upper_triangle=False):\n",
        "\t\t\"\"\" This function enables parallelization of nested loops.\n",
        "\t\t\"\"\"\n",
        "\t\t# partition of atoms with an inner loop\n",
        "\t\tparts = []\n",
        "\t\tnum_threads_ = min(num_threads, num_atoms)\n",
        "\n",
        "\t\tfor num in range(num_threads_):\n",
        "\t\t\tpart = 1 + 4 * (parts[-1] ** 2 + parts[-1] + num_atoms * (num_atoms + 1.) / num_threads_)\n",
        "\t\t\tpart = (-1 + part ** .5) / 2.\n",
        "\t\t\tparts.append(part)\n",
        "\n",
        "\t\tparts = np.round(parts).astype(int)\n",
        "\n",
        "\t\tif upper_triangle:  # the first rows are heaviest\n",
        "\t\t\tparts = np.cumsum(np.diff(parts)[::-1])\n",
        "\t\t\tparts = np.append(np.array([0]), parts)\n",
        "\t\treturn parts\n",
        "\n",
        "\t@staticmethod\n",
        "\tdef mp_pandas_obj(func, pd_obj, num_threads=24, mp_batches=1, lin_mols=True, **kargs):\n",
        "\t\t\"\"\"\t\n",
        "\t\t:param func: (string) function to be parallelized\n",
        "\t\t:param pd_obj: (vector) Element 0, is name of argument used to pass the molecule;\n",
        "\t\t\t\t\t\tElement 1, is the list of atoms to be grouped into a molecule\n",
        "\t\t:param num_threads: (int) number of threads\n",
        "\t\t:param mp_batches: (int) number of batches\n",
        "\t\t:param lin_mols: (bool) Tells if the method should use linear or nested partitioning\n",
        "\t\t:param kargs: (var args)\n",
        "\t\t:return: (data frame) of results\n",
        "\t\t\"\"\"\n",
        "\n",
        "\t\tif lin_mols:\n",
        "\t\t\tparts = MultiProcessingFunctions.lin_parts(len(pd_obj[1]), num_threads * mp_batches)\n",
        "\t\telse:\n",
        "\t\t\tparts = MultiProcessingFunctions.nested_parts(len(pd_obj[1]), num_threads * mp_batches)\n",
        "\n",
        "\t\tjobs = []\n",
        "\t\tfor i in range(1, len(parts)):\n",
        "\t\t\tjob = {pd_obj[0]: pd_obj[1][parts[i - 1]:parts[i]], 'func': func}\n",
        "\t\t\tjob.update(kargs)\n",
        "\t\t\tjobs.append(job)\n",
        "\n",
        "\t\tif num_threads == 1:\n",
        "\t\t\tout = MultiProcessingFunctions.process_jobs_(jobs)\n",
        "\t\telse:\n",
        "\t\t\tout = MultiProcessingFunctions.process_jobs(jobs, num_threads=num_threads)\n",
        "\n",
        "\t\tif isinstance(out[0], pd.DataFrame):\n",
        "\t\t\tdf0 = pd.DataFrame()\n",
        "\t\telif isinstance(out[0], pd.Series):\n",
        "\t\t\tdf0 = pd.Series()\n",
        "\t\telse:\n",
        "\t\t\treturn out\n",
        "\n",
        "\t\tfor i in out:\n",
        "\t\t\tdf0 = df0.append(i)\n",
        "\n",
        "\t\tdf0 = df0.sort_index()\n",
        "\t\treturn df0\n",
        "\n",
        "\t@staticmethod\n",
        "\tdef process_jobs_(jobs):\n",
        "\t\t\"\"\" Run jobs sequentially, for debugging \"\"\"\n",
        "\t\tout = []\n",
        "\t\tfor job in jobs:\n",
        "\t\t\tout_ = MultiProcessingFunctions.expand_call(job)\n",
        "\t\t\tout.append(out_)\n",
        "\t\treturn out\n",
        "\n",
        "\t@staticmethod\n",
        "\tdef expand_call(kargs):\n",
        "\t\t\"\"\" Expand the arguments of a callback function, kargs['func'] \"\"\"\n",
        "\t\tfunc = kargs['func']\n",
        "\t\tdel kargs['func']\n",
        "\t\tout = func(**kargs)\n",
        "\t\treturn out\n",
        "\n",
        "\t@staticmethod\n",
        "\tdef report_progress(job_num, num_jobs, time0, task):\n",
        "\t\t# Report progress as asynch jobs are completed\n",
        "\n",
        "\t\tmsg = [float(job_num) / num_jobs, (time.time() - time0)/60.]\n",
        "\t\tmsg.append(msg[1] * (1/msg[0] - 1))\n",
        "\t\ttime_stamp = str(dt.datetime.fromtimestamp(time.time()))\n",
        "\n",
        "\t\tmsg = time_stamp + ' ' + str(round(msg[0]*100, 2)) + '% '+task+' done after ' + \\\n",
        "\t\t\tstr(round(msg[1], 2)) + ' minutes. Remaining ' + str(round(msg[2], 2)) + ' minutes.'\n",
        "\n",
        "\t\tif job_num < num_jobs:\n",
        "\t\t\tsys.stderr.write(msg+'\\r')\n",
        "\t\telse:\n",
        "\t\t\tsys.stderr.write(msg+'\\n')\n",
        "\n",
        "\t\treturn\n",
        "\n",
        "\t@staticmethod\n",
        "\tdef process_jobs(jobs, task=None, num_threads=24):\n",
        "\t\t\"\"\" Run in parallel. jobs must contain a 'func' callback, for expand_call\"\"\"\n",
        "\t\tif task is None:\n",
        "\t\t\ttask = jobs[0]['func'].__name__\n",
        "\n",
        "\t\tpool = mp.Pool(processes=num_threads)\n",
        "\t\toutputs, out, time0 = pool.imap_unordered(MultiProcessingFunctions.expand_call,jobs),[],time.time()\n",
        "\t\tfor i, out_ in enumerate(outputs, 1):\n",
        "\t\t\tout.append(out_)\n",
        "\t\t\tMultiProcessingFunctions.report_progress(i, len(jobs), time0, task)\n",
        "\t\tpool.close()\n",
        "\t\tpool.join()  # this is needed to prevent memory leaks\n",
        "\t\treturn out"
      ],
      "metadata": {
        "id": "KWOyXsIoVKjc"
      },
      "execution_count": 86,
      "outputs": []
    },
    {
      "cell_type": "markdown",
      "source": [
        "3.1) Form dollar bars for E-mini S&P 500 futures"
      ],
      "metadata": {
        "id": "NoFleSrvavs1"
      }
    },
    {
      "cell_type": "code",
      "source": [
        "# first import the data\n",
        "\n",
        "dollar_bars_df = pd.read_parquet('BTC_1m_2018_dollar.parq')  \n",
        "dollar_bars_df['timestamp']= pd.to_datetime((dollar_bars_df['timestamp']).astype(float), unit='ms')\n",
        "dollar_bars_df = dollar_bars_df.set_index('timestamp')"
      ],
      "metadata": {
        "id": "4eNHMVx6a2KE"
      },
      "execution_count": 87,
      "outputs": []
    },
    {
      "cell_type": "code",
      "source": [
        "dollar_bars_df.head()"
      ],
      "metadata": {
        "colab": {
          "base_uri": "https://localhost:8080/",
          "height": 238
        },
        "id": "-EL1rSiia-9h",
        "outputId": "4bc47524-a3ec-443a-9501-06119f1b8f8b"
      },
      "execution_count": 88,
      "outputs": [
        {
          "output_type": "execute_result",
          "data": {
            "text/plain": [
              "                            open     high      low    close\n",
              "timestamp                                                  \n",
              "2018-08-03 00:03:00.060  7515.94  7528.91  7505.64  7512.90\n",
              "2018-08-03 00:07:00.060  7506.27  7512.90  7487.00  7487.52\n",
              "2018-08-03 00:11:00.060  7487.99  7505.25  7480.72  7484.42\n",
              "2018-08-03 00:17:00.060  7486.62  7502.64  7480.01  7490.92\n",
              "2018-08-03 00:23:00.060  7494.43  7503.02  7485.00  7487.00"
            ],
            "text/html": [
              "\n",
              "  <div id=\"df-346cbe61-bd4e-4601-80d3-820b90414137\">\n",
              "    <div class=\"colab-df-container\">\n",
              "      <div>\n",
              "<style scoped>\n",
              "    .dataframe tbody tr th:only-of-type {\n",
              "        vertical-align: middle;\n",
              "    }\n",
              "\n",
              "    .dataframe tbody tr th {\n",
              "        vertical-align: top;\n",
              "    }\n",
              "\n",
              "    .dataframe thead th {\n",
              "        text-align: right;\n",
              "    }\n",
              "</style>\n",
              "<table border=\"1\" class=\"dataframe\">\n",
              "  <thead>\n",
              "    <tr style=\"text-align: right;\">\n",
              "      <th></th>\n",
              "      <th>open</th>\n",
              "      <th>high</th>\n",
              "      <th>low</th>\n",
              "      <th>close</th>\n",
              "    </tr>\n",
              "    <tr>\n",
              "      <th>timestamp</th>\n",
              "      <th></th>\n",
              "      <th></th>\n",
              "      <th></th>\n",
              "      <th></th>\n",
              "    </tr>\n",
              "  </thead>\n",
              "  <tbody>\n",
              "    <tr>\n",
              "      <th>2018-08-03 00:03:00.060</th>\n",
              "      <td>7515.94</td>\n",
              "      <td>7528.91</td>\n",
              "      <td>7505.64</td>\n",
              "      <td>7512.90</td>\n",
              "    </tr>\n",
              "    <tr>\n",
              "      <th>2018-08-03 00:07:00.060</th>\n",
              "      <td>7506.27</td>\n",
              "      <td>7512.90</td>\n",
              "      <td>7487.00</td>\n",
              "      <td>7487.52</td>\n",
              "    </tr>\n",
              "    <tr>\n",
              "      <th>2018-08-03 00:11:00.060</th>\n",
              "      <td>7487.99</td>\n",
              "      <td>7505.25</td>\n",
              "      <td>7480.72</td>\n",
              "      <td>7484.42</td>\n",
              "    </tr>\n",
              "    <tr>\n",
              "      <th>2018-08-03 00:17:00.060</th>\n",
              "      <td>7486.62</td>\n",
              "      <td>7502.64</td>\n",
              "      <td>7480.01</td>\n",
              "      <td>7490.92</td>\n",
              "    </tr>\n",
              "    <tr>\n",
              "      <th>2018-08-03 00:23:00.060</th>\n",
              "      <td>7494.43</td>\n",
              "      <td>7503.02</td>\n",
              "      <td>7485.00</td>\n",
              "      <td>7487.00</td>\n",
              "    </tr>\n",
              "  </tbody>\n",
              "</table>\n",
              "</div>\n",
              "      <button class=\"colab-df-convert\" onclick=\"convertToInteractive('df-346cbe61-bd4e-4601-80d3-820b90414137')\"\n",
              "              title=\"Convert this dataframe to an interactive table.\"\n",
              "              style=\"display:none;\">\n",
              "        \n",
              "  <svg xmlns=\"http://www.w3.org/2000/svg\" height=\"24px\"viewBox=\"0 0 24 24\"\n",
              "       width=\"24px\">\n",
              "    <path d=\"M0 0h24v24H0V0z\" fill=\"none\"/>\n",
              "    <path d=\"M18.56 5.44l.94 2.06.94-2.06 2.06-.94-2.06-.94-.94-2.06-.94 2.06-2.06.94zm-11 1L8.5 8.5l.94-2.06 2.06-.94-2.06-.94L8.5 2.5l-.94 2.06-2.06.94zm10 10l.94 2.06.94-2.06 2.06-.94-2.06-.94-.94-2.06-.94 2.06-2.06.94z\"/><path d=\"M17.41 7.96l-1.37-1.37c-.4-.4-.92-.59-1.43-.59-.52 0-1.04.2-1.43.59L10.3 9.45l-7.72 7.72c-.78.78-.78 2.05 0 2.83L4 21.41c.39.39.9.59 1.41.59.51 0 1.02-.2 1.41-.59l7.78-7.78 2.81-2.81c.8-.78.8-2.07 0-2.86zM5.41 20L4 18.59l7.72-7.72 1.47 1.35L5.41 20z\"/>\n",
              "  </svg>\n",
              "      </button>\n",
              "      \n",
              "  <style>\n",
              "    .colab-df-container {\n",
              "      display:flex;\n",
              "      flex-wrap:wrap;\n",
              "      gap: 12px;\n",
              "    }\n",
              "\n",
              "    .colab-df-convert {\n",
              "      background-color: #E8F0FE;\n",
              "      border: none;\n",
              "      border-radius: 50%;\n",
              "      cursor: pointer;\n",
              "      display: none;\n",
              "      fill: #1967D2;\n",
              "      height: 32px;\n",
              "      padding: 0 0 0 0;\n",
              "      width: 32px;\n",
              "    }\n",
              "\n",
              "    .colab-df-convert:hover {\n",
              "      background-color: #E2EBFA;\n",
              "      box-shadow: 0px 1px 2px rgba(60, 64, 67, 0.3), 0px 1px 3px 1px rgba(60, 64, 67, 0.15);\n",
              "      fill: #174EA6;\n",
              "    }\n",
              "\n",
              "    [theme=dark] .colab-df-convert {\n",
              "      background-color: #3B4455;\n",
              "      fill: #D2E3FC;\n",
              "    }\n",
              "\n",
              "    [theme=dark] .colab-df-convert:hover {\n",
              "      background-color: #434B5C;\n",
              "      box-shadow: 0px 1px 3px 1px rgba(0, 0, 0, 0.15);\n",
              "      filter: drop-shadow(0px 1px 2px rgba(0, 0, 0, 0.3));\n",
              "      fill: #FFFFFF;\n",
              "    }\n",
              "  </style>\n",
              "\n",
              "      <script>\n",
              "        const buttonEl =\n",
              "          document.querySelector('#df-346cbe61-bd4e-4601-80d3-820b90414137 button.colab-df-convert');\n",
              "        buttonEl.style.display =\n",
              "          google.colab.kernel.accessAllowed ? 'block' : 'none';\n",
              "\n",
              "        async function convertToInteractive(key) {\n",
              "          const element = document.querySelector('#df-346cbe61-bd4e-4601-80d3-820b90414137');\n",
              "          const dataTable =\n",
              "            await google.colab.kernel.invokeFunction('convertToInteractive',\n",
              "                                                     [key], {});\n",
              "          if (!dataTable) return;\n",
              "\n",
              "          const docLinkHtml = 'Like what you see? Visit the ' +\n",
              "            '<a target=\"_blank\" href=https://colab.research.google.com/notebooks/data_table.ipynb>data table notebook</a>'\n",
              "            + ' to learn more about interactive tables.';\n",
              "          element.innerHTML = '';\n",
              "          dataTable['output_type'] = 'display_data';\n",
              "          await google.colab.output.renderOutput(dataTable, element);\n",
              "          const docLink = document.createElement('div');\n",
              "          docLink.innerHTML = docLinkHtml;\n",
              "          element.appendChild(docLink);\n",
              "        }\n",
              "      </script>\n",
              "    </div>\n",
              "  </div>\n",
              "  "
            ]
          },
          "metadata": {},
          "execution_count": 88
        }
      ]
    },
    {
      "cell_type": "markdown",
      "source": [
        "a) Apply a symmetric CUSUM filter where the threshold is the standard deviation of daily returns"
      ],
      "metadata": {
        "id": "JDrEIZi1bnGH"
      }
    },
    {
      "cell_type": "code",
      "source": [
        "# for this we use the preliminary functions getDailyVol and a modified getTEvents\n",
        "\n",
        "def getTEventsStd(gRaw,h):\n",
        "  # we modify the getTEvents such that the treshold is now the std for that timestamp\n",
        "  tEvents, sPos, sNeg = [], 0, 0\n",
        "  #diff = gRaw.diff()\n",
        "  diff = np.log(gRaw).diff().dropna()\n",
        "  for i in diff.index[1:]:\n",
        "    sPos, sNeg = max(0,sPos+diff.loc[i]),min(0,sNeg+diff.loc[i])\n",
        "    if sNeg < -h.loc[i]:\n",
        "      sNeg = 0; tEvents.append(i)\n",
        "    elif sPos > h.loc[i]:\n",
        "      sPos = 0; tEvents.append(i)\n",
        "  return pd.DatetimeIndex(tEvents)"
      ],
      "metadata": {
        "id": "XirLiT72bpEx"
      },
      "execution_count": 89,
      "outputs": []
    },
    {
      "cell_type": "markdown",
      "source": [
        "First we find the standard deviations of the daily returns\n",
        "\n"
      ],
      "metadata": {
        "id": "gW0O6pt6c7QU"
      }
    },
    {
      "cell_type": "code",
      "source": [
        "close = dollar_bars_df['close']\n",
        "daily_vols = getDailyVol(close,span0=50)\n",
        "\n",
        "daily_vols.head()"
      ],
      "metadata": {
        "colab": {
          "base_uri": "https://localhost:8080/"
        },
        "id": "nSQMn39EcjSA",
        "outputId": "eee3d110-0fb8-45c5-86e1-517d5b7e59da"
      },
      "execution_count": 90,
      "outputs": [
        {
          "output_type": "execute_result",
          "data": {
            "text/plain": [
              "timestamp\n",
              "2018-08-04 00:04:00.060         NaN\n",
              "2018-08-04 00:07:00.060    0.000120\n",
              "2018-08-04 00:19:00.060    0.002984\n",
              "2018-08-04 00:26:00.060    0.003371\n",
              "2018-08-04 00:38:00.060    0.008358\n",
              "Name: close, dtype: float64"
            ]
          },
          "metadata": {},
          "execution_count": 90
        }
      ]
    },
    {
      "cell_type": "markdown",
      "source": [
        "Now we use these vols to find the events"
      ],
      "metadata": {
        "id": "H_w2o0wldkqE"
      }
    },
    {
      "cell_type": "code",
      "source": [
        "cusum_events = getTEventsStd(close[daily_vols.index],daily_vols)"
      ],
      "metadata": {
        "id": "PrXCxzRxcz8b"
      },
      "execution_count": 91,
      "outputs": []
    },
    {
      "cell_type": "markdown",
      "source": [
        "b) Use snippet 3.4 on a pandas series t1, where numDays = 1"
      ],
      "metadata": {
        "id": "oRU9JINheRzI"
      }
    },
    {
      "cell_type": "code",
      "source": [
        "vertical_barriers = addVerticalBarrier(t_events=cusum_events,\n",
        "                                         df=close, num_days=1)\n"
      ],
      "metadata": {
        "id": "DQzLYcA8d0ya"
      },
      "execution_count": 92,
      "outputs": []
    },
    {
      "cell_type": "markdown",
      "source": [
        "c) On those sampled features, apply the triple-barrier method, where ptSl = [1,1] and t1 is the series you created in b)"
      ],
      "metadata": {
        "id": "jp0EkAFBh8yE"
      }
    },
    {
      "cell_type": "code",
      "source": [
        "ptSl = [1,1]\n",
        "minRet = 0.0005\n",
        "#what is trgt? "
      ],
      "metadata": {
        "id": "ec3f-xK9epi3"
      },
      "execution_count": 93,
      "outputs": []
    },
    {
      "cell_type": "code",
      "source": [
        "triple_barrier_events = getEvents(close=close,\n",
        "                                  tEvents=cusum_events,\n",
        "                                  ptSl=ptSl,\n",
        "                                  trgt = daily_vols,\n",
        "                                  minRet=minRet,\n",
        "                                  numThreads=10,\n",
        "                                  t1=vertical_barriers)"
      ],
      "metadata": {
        "id": "Y7R7PeBRf-uE",
        "colab": {
          "base_uri": "https://localhost:8080/"
        },
        "outputId": "7e2af87d-280d-4f93-a8ac-d9665f9f16f0"
      },
      "execution_count": 94,
      "outputs": [
        {
          "output_type": "stream",
          "name": "stderr",
          "text": [
            "2022-11-03 14:15:47.892568 100.0% applyPtSlOnT1 done after 0.58 minutes. Remaining 0.0 minutes.\n"
          ]
        }
      ]
    },
    {
      "cell_type": "markdown",
      "source": [
        "d) Apply getBins to generate the labels"
      ],
      "metadata": {
        "id": "7H0Ov4Wv1ojb"
      }
    },
    {
      "cell_type": "code",
      "source": [
        "labelled_events = getBins(triple_barrier_events,close)"
      ],
      "metadata": {
        "id": "nHp_ROlVgQPe"
      },
      "execution_count": 95,
      "outputs": []
    },
    {
      "cell_type": "code",
      "source": [
        "labelled_events.bin.value_counts()"
      ],
      "metadata": {
        "id": "U2abuiPBgQ2R",
        "colab": {
          "base_uri": "https://localhost:8080/"
        },
        "outputId": "002b7f54-7f6d-4ad2-9534-cd70024fe3d5"
      },
      "execution_count": 96,
      "outputs": [
        {
          "output_type": "execute_result",
          "data": {
            "text/plain": [
              " 1.0    7527\n",
              "-1.0    7302\n",
              "Name: bin, dtype: int64"
            ]
          },
          "metadata": {},
          "execution_count": 96
        }
      ]
    },
    {
      "cell_type": "markdown",
      "source": [
        "3.2) From exercise 1, use Snippet 3.8 to drop rare lables."
      ],
      "metadata": {
        "id": "fIFj6SC2aSS7"
      }
    },
    {
      "cell_type": "code",
      "source": [
        "dropped_labels = dropLabels(labelled_events,minPtc=0.05)"
      ],
      "metadata": {
        "id": "teyypv2TAqt8"
      },
      "execution_count": 97,
      "outputs": []
    },
    {
      "cell_type": "code",
      "source": [
        "dropped_labels"
      ],
      "metadata": {
        "id": "8U7Ydq8V4pfT",
        "colab": {
          "base_uri": "https://localhost:8080/",
          "height": 424
        },
        "outputId": "fed1694b-01ca-4633-c245-0914e62f671a"
      },
      "execution_count": 98,
      "outputs": [
        {
          "output_type": "execute_result",
          "data": {
            "text/plain": [
              "                              ret  bin\n",
              "2018-08-04 01:57:00.060 -0.010972 -1.0\n",
              "2018-08-04 06:00:00.060 -0.008068 -1.0\n",
              "2018-08-04 08:14:00.060 -0.005991 -1.0\n",
              "2018-08-04 09:33:00.060 -0.005543 -1.0\n",
              "2018-08-04 10:21:00.060 -0.006553 -1.0\n",
              "...                           ...  ...\n",
              "2020-08-02 18:35:00.060 -0.005947 -1.0\n",
              "2020-08-02 19:02:00.060 -0.003903 -1.0\n",
              "2020-08-02 19:17:00.060 -0.004966 -1.0\n",
              "2020-08-02 19:39:00.060 -0.010559 -1.0\n",
              "2020-08-02 21:35:00.060  0.010836  1.0\n",
              "\n",
              "[14829 rows x 2 columns]"
            ],
            "text/html": [
              "\n",
              "  <div id=\"df-573448b2-a8d7-4564-afc2-6d904d86d573\">\n",
              "    <div class=\"colab-df-container\">\n",
              "      <div>\n",
              "<style scoped>\n",
              "    .dataframe tbody tr th:only-of-type {\n",
              "        vertical-align: middle;\n",
              "    }\n",
              "\n",
              "    .dataframe tbody tr th {\n",
              "        vertical-align: top;\n",
              "    }\n",
              "\n",
              "    .dataframe thead th {\n",
              "        text-align: right;\n",
              "    }\n",
              "</style>\n",
              "<table border=\"1\" class=\"dataframe\">\n",
              "  <thead>\n",
              "    <tr style=\"text-align: right;\">\n",
              "      <th></th>\n",
              "      <th>ret</th>\n",
              "      <th>bin</th>\n",
              "    </tr>\n",
              "  </thead>\n",
              "  <tbody>\n",
              "    <tr>\n",
              "      <th>2018-08-04 01:57:00.060</th>\n",
              "      <td>-0.010972</td>\n",
              "      <td>-1.0</td>\n",
              "    </tr>\n",
              "    <tr>\n",
              "      <th>2018-08-04 06:00:00.060</th>\n",
              "      <td>-0.008068</td>\n",
              "      <td>-1.0</td>\n",
              "    </tr>\n",
              "    <tr>\n",
              "      <th>2018-08-04 08:14:00.060</th>\n",
              "      <td>-0.005991</td>\n",
              "      <td>-1.0</td>\n",
              "    </tr>\n",
              "    <tr>\n",
              "      <th>2018-08-04 09:33:00.060</th>\n",
              "      <td>-0.005543</td>\n",
              "      <td>-1.0</td>\n",
              "    </tr>\n",
              "    <tr>\n",
              "      <th>2018-08-04 10:21:00.060</th>\n",
              "      <td>-0.006553</td>\n",
              "      <td>-1.0</td>\n",
              "    </tr>\n",
              "    <tr>\n",
              "      <th>...</th>\n",
              "      <td>...</td>\n",
              "      <td>...</td>\n",
              "    </tr>\n",
              "    <tr>\n",
              "      <th>2020-08-02 18:35:00.060</th>\n",
              "      <td>-0.005947</td>\n",
              "      <td>-1.0</td>\n",
              "    </tr>\n",
              "    <tr>\n",
              "      <th>2020-08-02 19:02:00.060</th>\n",
              "      <td>-0.003903</td>\n",
              "      <td>-1.0</td>\n",
              "    </tr>\n",
              "    <tr>\n",
              "      <th>2020-08-02 19:17:00.060</th>\n",
              "      <td>-0.004966</td>\n",
              "      <td>-1.0</td>\n",
              "    </tr>\n",
              "    <tr>\n",
              "      <th>2020-08-02 19:39:00.060</th>\n",
              "      <td>-0.010559</td>\n",
              "      <td>-1.0</td>\n",
              "    </tr>\n",
              "    <tr>\n",
              "      <th>2020-08-02 21:35:00.060</th>\n",
              "      <td>0.010836</td>\n",
              "      <td>1.0</td>\n",
              "    </tr>\n",
              "  </tbody>\n",
              "</table>\n",
              "<p>14829 rows × 2 columns</p>\n",
              "</div>\n",
              "      <button class=\"colab-df-convert\" onclick=\"convertToInteractive('df-573448b2-a8d7-4564-afc2-6d904d86d573')\"\n",
              "              title=\"Convert this dataframe to an interactive table.\"\n",
              "              style=\"display:none;\">\n",
              "        \n",
              "  <svg xmlns=\"http://www.w3.org/2000/svg\" height=\"24px\"viewBox=\"0 0 24 24\"\n",
              "       width=\"24px\">\n",
              "    <path d=\"M0 0h24v24H0V0z\" fill=\"none\"/>\n",
              "    <path d=\"M18.56 5.44l.94 2.06.94-2.06 2.06-.94-2.06-.94-.94-2.06-.94 2.06-2.06.94zm-11 1L8.5 8.5l.94-2.06 2.06-.94-2.06-.94L8.5 2.5l-.94 2.06-2.06.94zm10 10l.94 2.06.94-2.06 2.06-.94-2.06-.94-.94-2.06-.94 2.06-2.06.94z\"/><path d=\"M17.41 7.96l-1.37-1.37c-.4-.4-.92-.59-1.43-.59-.52 0-1.04.2-1.43.59L10.3 9.45l-7.72 7.72c-.78.78-.78 2.05 0 2.83L4 21.41c.39.39.9.59 1.41.59.51 0 1.02-.2 1.41-.59l7.78-7.78 2.81-2.81c.8-.78.8-2.07 0-2.86zM5.41 20L4 18.59l7.72-7.72 1.47 1.35L5.41 20z\"/>\n",
              "  </svg>\n",
              "      </button>\n",
              "      \n",
              "  <style>\n",
              "    .colab-df-container {\n",
              "      display:flex;\n",
              "      flex-wrap:wrap;\n",
              "      gap: 12px;\n",
              "    }\n",
              "\n",
              "    .colab-df-convert {\n",
              "      background-color: #E8F0FE;\n",
              "      border: none;\n",
              "      border-radius: 50%;\n",
              "      cursor: pointer;\n",
              "      display: none;\n",
              "      fill: #1967D2;\n",
              "      height: 32px;\n",
              "      padding: 0 0 0 0;\n",
              "      width: 32px;\n",
              "    }\n",
              "\n",
              "    .colab-df-convert:hover {\n",
              "      background-color: #E2EBFA;\n",
              "      box-shadow: 0px 1px 2px rgba(60, 64, 67, 0.3), 0px 1px 3px 1px rgba(60, 64, 67, 0.15);\n",
              "      fill: #174EA6;\n",
              "    }\n",
              "\n",
              "    [theme=dark] .colab-df-convert {\n",
              "      background-color: #3B4455;\n",
              "      fill: #D2E3FC;\n",
              "    }\n",
              "\n",
              "    [theme=dark] .colab-df-convert:hover {\n",
              "      background-color: #434B5C;\n",
              "      box-shadow: 0px 1px 3px 1px rgba(0, 0, 0, 0.15);\n",
              "      filter: drop-shadow(0px 1px 2px rgba(0, 0, 0, 0.3));\n",
              "      fill: #FFFFFF;\n",
              "    }\n",
              "  </style>\n",
              "\n",
              "      <script>\n",
              "        const buttonEl =\n",
              "          document.querySelector('#df-573448b2-a8d7-4564-afc2-6d904d86d573 button.colab-df-convert');\n",
              "        buttonEl.style.display =\n",
              "          google.colab.kernel.accessAllowed ? 'block' : 'none';\n",
              "\n",
              "        async function convertToInteractive(key) {\n",
              "          const element = document.querySelector('#df-573448b2-a8d7-4564-afc2-6d904d86d573');\n",
              "          const dataTable =\n",
              "            await google.colab.kernel.invokeFunction('convertToInteractive',\n",
              "                                                     [key], {});\n",
              "          if (!dataTable) return;\n",
              "\n",
              "          const docLinkHtml = 'Like what you see? Visit the ' +\n",
              "            '<a target=\"_blank\" href=https://colab.research.google.com/notebooks/data_table.ipynb>data table notebook</a>'\n",
              "            + ' to learn more about interactive tables.';\n",
              "          element.innerHTML = '';\n",
              "          dataTable['output_type'] = 'display_data';\n",
              "          await google.colab.output.renderOutput(dataTable, element);\n",
              "          const docLink = document.createElement('div');\n",
              "          docLink.innerHTML = docLinkHtml;\n",
              "          element.appendChild(docLink);\n",
              "        }\n",
              "      </script>\n",
              "    </div>\n",
              "  </div>\n",
              "  "
            ]
          },
          "metadata": {},
          "execution_count": 98
        }
      ]
    },
    {
      "cell_type": "markdown",
      "source": [
        "3.3) Adjust the getBins function (Snippet 3.5) to return a 0 whenever the vertical barrier is the first touched"
      ],
      "metadata": {
        "id": "A0seUL9Sb_RJ"
      }
    },
    {
      "cell_type": "code",
      "source": [
        "def getBins0(events,close):\n",
        "  # 1) align prices with events\n",
        "  events_ = events.dropna(subset=['t1'])\n",
        "  px = events_.index.union(events_['t1'].values).drop_duplicates()\n",
        "  px = close.reindex(px,method='bfill')\n",
        "  # 2) create out object\n",
        "  out= pd.DataFrame(index=events_.index)\n",
        "  out['ret'] = px.loc[events_['t1'].values].values/px.loc[events_.index]-1\n",
        "  if 'side' in events_: out['ret'] *= events_['side'] \n",
        "  out['bin'] = np.sign(out['ret'])\n",
        "  if 'side' in events_: out.loc[out['ret'] <= 0, 'bin'] = 0\n",
        "  return out"
      ],
      "metadata": {
        "id": "lqdbwyfq4qIC"
      },
      "execution_count": 99,
      "outputs": []
    },
    {
      "cell_type": "code",
      "source": [
        "triple_barrier_events.dropna(subset=['t1'])"
      ],
      "metadata": {
        "colab": {
          "base_uri": "https://localhost:8080/",
          "height": 424
        },
        "id": "Hqe_FCrXcxIq",
        "outputId": "5b304a5f-b00d-42ca-e571-58eb8733573a"
      },
      "execution_count": 100,
      "outputs": [
        {
          "output_type": "execute_result",
          "data": {
            "text/plain": [
              "                                             t1      trgt\n",
              "2018-08-04 01:57:00.060 2018-08-04 10:33:00.060  0.010506\n",
              "2018-08-04 06:00:00.060 2018-08-04 12:05:00.060  0.007128\n",
              "2018-08-04 08:14:00.060 2018-08-04 10:17:00.060  0.005732\n",
              "2018-08-04 09:33:00.060 2018-08-04 10:33:00.060  0.004493\n",
              "2018-08-04 10:21:00.060 2018-08-04 12:05:00.060  0.004243\n",
              "...                                         ...       ...\n",
              "2020-08-02 18:35:00.060 2020-08-02 19:39:00.060  0.003847\n",
              "2020-08-02 19:02:00.060 2020-08-02 19:17:00.060  0.003772\n",
              "2020-08-02 19:17:00.060 2020-08-02 19:39:00.060  0.003690\n",
              "2020-08-02 19:39:00.060 2020-08-02 21:35:00.060  0.005341\n",
              "2020-08-02 21:35:00.060 2020-08-02 22:02:00.060  0.009059\n",
              "\n",
              "[14829 rows x 2 columns]"
            ],
            "text/html": [
              "\n",
              "  <div id=\"df-ea7e1837-a59e-406d-a016-1597e00e43ad\">\n",
              "    <div class=\"colab-df-container\">\n",
              "      <div>\n",
              "<style scoped>\n",
              "    .dataframe tbody tr th:only-of-type {\n",
              "        vertical-align: middle;\n",
              "    }\n",
              "\n",
              "    .dataframe tbody tr th {\n",
              "        vertical-align: top;\n",
              "    }\n",
              "\n",
              "    .dataframe thead th {\n",
              "        text-align: right;\n",
              "    }\n",
              "</style>\n",
              "<table border=\"1\" class=\"dataframe\">\n",
              "  <thead>\n",
              "    <tr style=\"text-align: right;\">\n",
              "      <th></th>\n",
              "      <th>t1</th>\n",
              "      <th>trgt</th>\n",
              "    </tr>\n",
              "  </thead>\n",
              "  <tbody>\n",
              "    <tr>\n",
              "      <th>2018-08-04 01:57:00.060</th>\n",
              "      <td>2018-08-04 10:33:00.060</td>\n",
              "      <td>0.010506</td>\n",
              "    </tr>\n",
              "    <tr>\n",
              "      <th>2018-08-04 06:00:00.060</th>\n",
              "      <td>2018-08-04 12:05:00.060</td>\n",
              "      <td>0.007128</td>\n",
              "    </tr>\n",
              "    <tr>\n",
              "      <th>2018-08-04 08:14:00.060</th>\n",
              "      <td>2018-08-04 10:17:00.060</td>\n",
              "      <td>0.005732</td>\n",
              "    </tr>\n",
              "    <tr>\n",
              "      <th>2018-08-04 09:33:00.060</th>\n",
              "      <td>2018-08-04 10:33:00.060</td>\n",
              "      <td>0.004493</td>\n",
              "    </tr>\n",
              "    <tr>\n",
              "      <th>2018-08-04 10:21:00.060</th>\n",
              "      <td>2018-08-04 12:05:00.060</td>\n",
              "      <td>0.004243</td>\n",
              "    </tr>\n",
              "    <tr>\n",
              "      <th>...</th>\n",
              "      <td>...</td>\n",
              "      <td>...</td>\n",
              "    </tr>\n",
              "    <tr>\n",
              "      <th>2020-08-02 18:35:00.060</th>\n",
              "      <td>2020-08-02 19:39:00.060</td>\n",
              "      <td>0.003847</td>\n",
              "    </tr>\n",
              "    <tr>\n",
              "      <th>2020-08-02 19:02:00.060</th>\n",
              "      <td>2020-08-02 19:17:00.060</td>\n",
              "      <td>0.003772</td>\n",
              "    </tr>\n",
              "    <tr>\n",
              "      <th>2020-08-02 19:17:00.060</th>\n",
              "      <td>2020-08-02 19:39:00.060</td>\n",
              "      <td>0.003690</td>\n",
              "    </tr>\n",
              "    <tr>\n",
              "      <th>2020-08-02 19:39:00.060</th>\n",
              "      <td>2020-08-02 21:35:00.060</td>\n",
              "      <td>0.005341</td>\n",
              "    </tr>\n",
              "    <tr>\n",
              "      <th>2020-08-02 21:35:00.060</th>\n",
              "      <td>2020-08-02 22:02:00.060</td>\n",
              "      <td>0.009059</td>\n",
              "    </tr>\n",
              "  </tbody>\n",
              "</table>\n",
              "<p>14829 rows × 2 columns</p>\n",
              "</div>\n",
              "      <button class=\"colab-df-convert\" onclick=\"convertToInteractive('df-ea7e1837-a59e-406d-a016-1597e00e43ad')\"\n",
              "              title=\"Convert this dataframe to an interactive table.\"\n",
              "              style=\"display:none;\">\n",
              "        \n",
              "  <svg xmlns=\"http://www.w3.org/2000/svg\" height=\"24px\"viewBox=\"0 0 24 24\"\n",
              "       width=\"24px\">\n",
              "    <path d=\"M0 0h24v24H0V0z\" fill=\"none\"/>\n",
              "    <path d=\"M18.56 5.44l.94 2.06.94-2.06 2.06-.94-2.06-.94-.94-2.06-.94 2.06-2.06.94zm-11 1L8.5 8.5l.94-2.06 2.06-.94-2.06-.94L8.5 2.5l-.94 2.06-2.06.94zm10 10l.94 2.06.94-2.06 2.06-.94-2.06-.94-.94-2.06-.94 2.06-2.06.94z\"/><path d=\"M17.41 7.96l-1.37-1.37c-.4-.4-.92-.59-1.43-.59-.52 0-1.04.2-1.43.59L10.3 9.45l-7.72 7.72c-.78.78-.78 2.05 0 2.83L4 21.41c.39.39.9.59 1.41.59.51 0 1.02-.2 1.41-.59l7.78-7.78 2.81-2.81c.8-.78.8-2.07 0-2.86zM5.41 20L4 18.59l7.72-7.72 1.47 1.35L5.41 20z\"/>\n",
              "  </svg>\n",
              "      </button>\n",
              "      \n",
              "  <style>\n",
              "    .colab-df-container {\n",
              "      display:flex;\n",
              "      flex-wrap:wrap;\n",
              "      gap: 12px;\n",
              "    }\n",
              "\n",
              "    .colab-df-convert {\n",
              "      background-color: #E8F0FE;\n",
              "      border: none;\n",
              "      border-radius: 50%;\n",
              "      cursor: pointer;\n",
              "      display: none;\n",
              "      fill: #1967D2;\n",
              "      height: 32px;\n",
              "      padding: 0 0 0 0;\n",
              "      width: 32px;\n",
              "    }\n",
              "\n",
              "    .colab-df-convert:hover {\n",
              "      background-color: #E2EBFA;\n",
              "      box-shadow: 0px 1px 2px rgba(60, 64, 67, 0.3), 0px 1px 3px 1px rgba(60, 64, 67, 0.15);\n",
              "      fill: #174EA6;\n",
              "    }\n",
              "\n",
              "    [theme=dark] .colab-df-convert {\n",
              "      background-color: #3B4455;\n",
              "      fill: #D2E3FC;\n",
              "    }\n",
              "\n",
              "    [theme=dark] .colab-df-convert:hover {\n",
              "      background-color: #434B5C;\n",
              "      box-shadow: 0px 1px 3px 1px rgba(0, 0, 0, 0.15);\n",
              "      filter: drop-shadow(0px 1px 2px rgba(0, 0, 0, 0.3));\n",
              "      fill: #FFFFFF;\n",
              "    }\n",
              "  </style>\n",
              "\n",
              "      <script>\n",
              "        const buttonEl =\n",
              "          document.querySelector('#df-ea7e1837-a59e-406d-a016-1597e00e43ad button.colab-df-convert');\n",
              "        buttonEl.style.display =\n",
              "          google.colab.kernel.accessAllowed ? 'block' : 'none';\n",
              "\n",
              "        async function convertToInteractive(key) {\n",
              "          const element = document.querySelector('#df-ea7e1837-a59e-406d-a016-1597e00e43ad');\n",
              "          const dataTable =\n",
              "            await google.colab.kernel.invokeFunction('convertToInteractive',\n",
              "                                                     [key], {});\n",
              "          if (!dataTable) return;\n",
              "\n",
              "          const docLinkHtml = 'Like what you see? Visit the ' +\n",
              "            '<a target=\"_blank\" href=https://colab.research.google.com/notebooks/data_table.ipynb>data table notebook</a>'\n",
              "            + ' to learn more about interactive tables.';\n",
              "          element.innerHTML = '';\n",
              "          dataTable['output_type'] = 'display_data';\n",
              "          await google.colab.output.renderOutput(dataTable, element);\n",
              "          const docLink = document.createElement('div');\n",
              "          docLink.innerHTML = docLinkHtml;\n",
              "          element.appendChild(docLink);\n",
              "        }\n",
              "      </script>\n",
              "    </div>\n",
              "  </div>\n",
              "  "
            ]
          },
          "metadata": {},
          "execution_count": 100
        }
      ]
    },
    {
      "cell_type": "code",
      "source": [
        "\n"
      ],
      "metadata": {
        "id": "LzG3-SB3czxU"
      },
      "execution_count": 100,
      "outputs": []
    },
    {
      "cell_type": "markdown",
      "source": [
        "3.4) Develop a trend-following strategy based on a popular technical analysis statistic (e.g. crossing moving averages). For each observation, the model suggests a side, but not a size of the bet"
      ],
      "metadata": {
        "id": "Qy2KlNY5iasu"
      }
    },
    {
      "cell_type": "code",
      "source": [
        "def sma(data,w1,w2,mp):\n",
        "  sma_1 = data.rolling(w1,min_periods = mp).mean()\n",
        "  sma_2 = data.rolling(w2,min_periods = mp).mean()\n",
        "  return sma_1, sma_2"
      ],
      "metadata": {
        "id": "crAtDVBX2-Gp"
      },
      "execution_count": 106,
      "outputs": []
    },
    {
      "cell_type": "code",
      "source": [
        "window_1, window_2 = 20, 50\n",
        "data = dollar_bars_df\n",
        "data['20_SMA'] , data['50_SMA'] = sma(data['close'],window_1,window_2,mp = 1)\n",
        "data['side'] = np.where(data['20_SMA'] > data['50_SMA'], 1.0, -1.0)\n",
        "data.dropna(axis=0, how='any', inplace=True)  \n",
        "data.head()"
      ],
      "metadata": {
        "colab": {
          "base_uri": "https://localhost:8080/",
          "height": 238
        },
        "id": "BoI_Fa3bdZgy",
        "outputId": "82cc7e97-0590-48e3-997f-156c9e455a7d"
      },
      "execution_count": 112,
      "outputs": [
        {
          "output_type": "execute_result",
          "data": {
            "text/plain": [
              "                            open     high      low    close       20_SMA  \\\n",
              "timestamp                                                                  \n",
              "2018-08-03 00:03:00.060  7515.94  7528.91  7505.64  7512.90  7512.900000   \n",
              "2018-08-03 00:07:00.060  7506.27  7512.90  7487.00  7487.52  7500.210000   \n",
              "2018-08-03 00:11:00.060  7487.99  7505.25  7480.72  7484.42  7494.946667   \n",
              "2018-08-03 00:17:00.060  7486.62  7502.64  7480.01  7490.92  7493.940000   \n",
              "2018-08-03 00:23:00.060  7494.43  7503.02  7485.00  7487.00  7492.552000   \n",
              "\n",
              "                              50_SMA  side  \n",
              "timestamp                                   \n",
              "2018-08-03 00:03:00.060  7512.900000  -1.0  \n",
              "2018-08-03 00:07:00.060  7500.210000  -1.0  \n",
              "2018-08-03 00:11:00.060  7494.946667  -1.0  \n",
              "2018-08-03 00:17:00.060  7493.940000  -1.0  \n",
              "2018-08-03 00:23:00.060  7492.552000  -1.0  "
            ],
            "text/html": [
              "\n",
              "  <div id=\"df-c98a0086-dd5d-4f1f-a8ac-adb0bbe618a8\">\n",
              "    <div class=\"colab-df-container\">\n",
              "      <div>\n",
              "<style scoped>\n",
              "    .dataframe tbody tr th:only-of-type {\n",
              "        vertical-align: middle;\n",
              "    }\n",
              "\n",
              "    .dataframe tbody tr th {\n",
              "        vertical-align: top;\n",
              "    }\n",
              "\n",
              "    .dataframe thead th {\n",
              "        text-align: right;\n",
              "    }\n",
              "</style>\n",
              "<table border=\"1\" class=\"dataframe\">\n",
              "  <thead>\n",
              "    <tr style=\"text-align: right;\">\n",
              "      <th></th>\n",
              "      <th>open</th>\n",
              "      <th>high</th>\n",
              "      <th>low</th>\n",
              "      <th>close</th>\n",
              "      <th>20_SMA</th>\n",
              "      <th>50_SMA</th>\n",
              "      <th>side</th>\n",
              "    </tr>\n",
              "    <tr>\n",
              "      <th>timestamp</th>\n",
              "      <th></th>\n",
              "      <th></th>\n",
              "      <th></th>\n",
              "      <th></th>\n",
              "      <th></th>\n",
              "      <th></th>\n",
              "      <th></th>\n",
              "    </tr>\n",
              "  </thead>\n",
              "  <tbody>\n",
              "    <tr>\n",
              "      <th>2018-08-03 00:03:00.060</th>\n",
              "      <td>7515.94</td>\n",
              "      <td>7528.91</td>\n",
              "      <td>7505.64</td>\n",
              "      <td>7512.90</td>\n",
              "      <td>7512.900000</td>\n",
              "      <td>7512.900000</td>\n",
              "      <td>-1.0</td>\n",
              "    </tr>\n",
              "    <tr>\n",
              "      <th>2018-08-03 00:07:00.060</th>\n",
              "      <td>7506.27</td>\n",
              "      <td>7512.90</td>\n",
              "      <td>7487.00</td>\n",
              "      <td>7487.52</td>\n",
              "      <td>7500.210000</td>\n",
              "      <td>7500.210000</td>\n",
              "      <td>-1.0</td>\n",
              "    </tr>\n",
              "    <tr>\n",
              "      <th>2018-08-03 00:11:00.060</th>\n",
              "      <td>7487.99</td>\n",
              "      <td>7505.25</td>\n",
              "      <td>7480.72</td>\n",
              "      <td>7484.42</td>\n",
              "      <td>7494.946667</td>\n",
              "      <td>7494.946667</td>\n",
              "      <td>-1.0</td>\n",
              "    </tr>\n",
              "    <tr>\n",
              "      <th>2018-08-03 00:17:00.060</th>\n",
              "      <td>7486.62</td>\n",
              "      <td>7502.64</td>\n",
              "      <td>7480.01</td>\n",
              "      <td>7490.92</td>\n",
              "      <td>7493.940000</td>\n",
              "      <td>7493.940000</td>\n",
              "      <td>-1.0</td>\n",
              "    </tr>\n",
              "    <tr>\n",
              "      <th>2018-08-03 00:23:00.060</th>\n",
              "      <td>7494.43</td>\n",
              "      <td>7503.02</td>\n",
              "      <td>7485.00</td>\n",
              "      <td>7487.00</td>\n",
              "      <td>7492.552000</td>\n",
              "      <td>7492.552000</td>\n",
              "      <td>-1.0</td>\n",
              "    </tr>\n",
              "  </tbody>\n",
              "</table>\n",
              "</div>\n",
              "      <button class=\"colab-df-convert\" onclick=\"convertToInteractive('df-c98a0086-dd5d-4f1f-a8ac-adb0bbe618a8')\"\n",
              "              title=\"Convert this dataframe to an interactive table.\"\n",
              "              style=\"display:none;\">\n",
              "        \n",
              "  <svg xmlns=\"http://www.w3.org/2000/svg\" height=\"24px\"viewBox=\"0 0 24 24\"\n",
              "       width=\"24px\">\n",
              "    <path d=\"M0 0h24v24H0V0z\" fill=\"none\"/>\n",
              "    <path d=\"M18.56 5.44l.94 2.06.94-2.06 2.06-.94-2.06-.94-.94-2.06-.94 2.06-2.06.94zm-11 1L8.5 8.5l.94-2.06 2.06-.94-2.06-.94L8.5 2.5l-.94 2.06-2.06.94zm10 10l.94 2.06.94-2.06 2.06-.94-2.06-.94-.94-2.06-.94 2.06-2.06.94z\"/><path d=\"M17.41 7.96l-1.37-1.37c-.4-.4-.92-.59-1.43-.59-.52 0-1.04.2-1.43.59L10.3 9.45l-7.72 7.72c-.78.78-.78 2.05 0 2.83L4 21.41c.39.39.9.59 1.41.59.51 0 1.02-.2 1.41-.59l7.78-7.78 2.81-2.81c.8-.78.8-2.07 0-2.86zM5.41 20L4 18.59l7.72-7.72 1.47 1.35L5.41 20z\"/>\n",
              "  </svg>\n",
              "      </button>\n",
              "      \n",
              "  <style>\n",
              "    .colab-df-container {\n",
              "      display:flex;\n",
              "      flex-wrap:wrap;\n",
              "      gap: 12px;\n",
              "    }\n",
              "\n",
              "    .colab-df-convert {\n",
              "      background-color: #E8F0FE;\n",
              "      border: none;\n",
              "      border-radius: 50%;\n",
              "      cursor: pointer;\n",
              "      display: none;\n",
              "      fill: #1967D2;\n",
              "      height: 32px;\n",
              "      padding: 0 0 0 0;\n",
              "      width: 32px;\n",
              "    }\n",
              "\n",
              "    .colab-df-convert:hover {\n",
              "      background-color: #E2EBFA;\n",
              "      box-shadow: 0px 1px 2px rgba(60, 64, 67, 0.3), 0px 1px 3px 1px rgba(60, 64, 67, 0.15);\n",
              "      fill: #174EA6;\n",
              "    }\n",
              "\n",
              "    [theme=dark] .colab-df-convert {\n",
              "      background-color: #3B4455;\n",
              "      fill: #D2E3FC;\n",
              "    }\n",
              "\n",
              "    [theme=dark] .colab-df-convert:hover {\n",
              "      background-color: #434B5C;\n",
              "      box-shadow: 0px 1px 3px 1px rgba(0, 0, 0, 0.15);\n",
              "      filter: drop-shadow(0px 1px 2px rgba(0, 0, 0, 0.3));\n",
              "      fill: #FFFFFF;\n",
              "    }\n",
              "  </style>\n",
              "\n",
              "      <script>\n",
              "        const buttonEl =\n",
              "          document.querySelector('#df-c98a0086-dd5d-4f1f-a8ac-adb0bbe618a8 button.colab-df-convert');\n",
              "        buttonEl.style.display =\n",
              "          google.colab.kernel.accessAllowed ? 'block' : 'none';\n",
              "\n",
              "        async function convertToInteractive(key) {\n",
              "          const element = document.querySelector('#df-c98a0086-dd5d-4f1f-a8ac-adb0bbe618a8');\n",
              "          const dataTable =\n",
              "            await google.colab.kernel.invokeFunction('convertToInteractive',\n",
              "                                                     [key], {});\n",
              "          if (!dataTable) return;\n",
              "\n",
              "          const docLinkHtml = 'Like what you see? Visit the ' +\n",
              "            '<a target=\"_blank\" href=https://colab.research.google.com/notebooks/data_table.ipynb>data table notebook</a>'\n",
              "            + ' to learn more about interactive tables.';\n",
              "          element.innerHTML = '';\n",
              "          dataTable['output_type'] = 'display_data';\n",
              "          await google.colab.output.renderOutput(dataTable, element);\n",
              "          const docLink = document.createElement('div');\n",
              "          docLink.innerHTML = docLinkHtml;\n",
              "          element.appendChild(docLink);\n",
              "        }\n",
              "      </script>\n",
              "    </div>\n",
              "  </div>\n",
              "  "
            ]
          },
          "metadata": {},
          "execution_count": 112
        }
      ]
    },
    {
      "cell_type": "code",
      "source": [],
      "metadata": {
        "id": "sDRUF4MOdaep"
      },
      "execution_count": 112,
      "outputs": []
    },
    {
      "cell_type": "code",
      "source": [],
      "metadata": {
        "id": "qyq3hkm23wnq"
      },
      "execution_count": null,
      "outputs": []
    }
  ]
}